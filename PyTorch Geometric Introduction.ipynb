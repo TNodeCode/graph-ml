{
 "cells": [
  {
   "cell_type": "markdown",
   "id": "a4349c5d-58da-4287-acef-6eb9b72f9706",
   "metadata": {},
   "source": [
    "# PyTorch Geometric Introduction\n",
    "\n",
    "A small overview on how to load graph data with PyTorch Geometric"
   ]
  },
  {
   "cell_type": "code",
   "execution_count": 1,
   "id": "09639d0c-aeda-4525-9ea5-2f1a4572e79e",
   "metadata": {},
   "outputs": [
    {
     "name": "stderr",
     "output_type": "stream",
     "text": [
      "C:\\Users\\tilof\\AppData\\Local\\Programs\\Python\\Python310\\lib\\site-packages\\torch\\cuda\\__init__.py:107: UserWarning: CUDA initialization: CUDA unknown error - this may be due to an incorrectly set up environment, e.g. changing env variable CUDA_VISIBLE_DEVICES after program start. Setting the available devices to be zero. (Triggered internally at ..\\c10\\cuda\\CUDAFunctions.cpp:109.)\n",
      "  return torch._C._cuda_getDeviceCount() > 0\n"
     ]
    }
   ],
   "source": [
    "import torch\n",
    "import networkx as nx\n",
    "from torch_geometric.data import Data\n",
    "from torch_geometric.utils.convert import to_networkx\n",
    "\n",
    "# watch for any changes in model.py, if it changes, re-load it automatically\n",
    "%load_ext autoreload\n",
    "%autoreload 2"
   ]
  },
  {
   "cell_type": "markdown",
   "id": "0275c8c3-be60-4511-b3b5-1dc1bc87176d",
   "metadata": {},
   "source": [
    "## Definition of a graph"
   ]
  },
  {
   "cell_type": "code",
   "execution_count": 2,
   "id": "c0d76e81-5a68-41df-9606-339887d14d5e",
   "metadata": {},
   "outputs": [],
   "source": [
    "# A graph with four nodes\n",
    "edge_list = torch.tensor([\n",
    "    [0, 0, 0, 1, 2, 2, 3, 3], # Source nodes\n",
    "    [1, 2, 3, 0, 0, 3, 2, 0], # Target nodes\n",
    "], dtype=torch.long)\n",
    "\n",
    "# Six features for each node\n",
    "node_features = torch.tensor([\n",
    "    [-8, 1, 5, 8, 2, -3], # features of node 0\n",
    "    [-1, 0, 2, -3, 0, 1], # features of node 1\n",
    "    [1, -1, 0, -1, 2, 1], # features of node 2\n",
    "    [0, 1, 4, -2, 3, 4], # features of node 3\n",
    "], dtype=torch.long)\n",
    "\n",
    "# One weight for each edge\n",
    "edge_weight = torch.tensor([\n",
    "    [35.], # weights for edge 0: (0,1)\n",
    "    [48.], # weights for edge 1: (0,2)\n",
    "    [12.], # weights for edge 2: (0,3)\n",
    "    [10.], # weights for edge 3: (1,0)\n",
    "    [70.], # weights for edge 4: (2,0)\n",
    "    [5.], # weights for edge 5: (2,3)\n",
    "    [15.], # weights for edge 6: (3,2)\n",
    "    [8.], # weights for edge 7: (3,0)\n",
    "], dtype=torch.long)"
   ]
  },
  {
   "cell_type": "markdown",
   "id": "2f3d01c8-55db-4655-a907-b50fa1085230",
   "metadata": {},
   "source": [
    "### Use PyTorch Geometric package to create a Data object"
   ]
  },
  {
   "cell_type": "code",
   "execution_count": 3,
   "id": "796fd07b-bbdf-4bab-960a-5b8dce09b86f",
   "metadata": {},
   "outputs": [
    {
     "name": "stdout",
     "output_type": "stream",
     "text": [
      "Number of nodes 4\n",
      "Number of edges 8\n",
      "Number of ndoe features 6\n",
      "Number of edge features 1\n"
     ]
    }
   ],
   "source": [
    "# Create a Data object representing the graph\n",
    "data = Data(x=node_features, edge_index=edge_list, edge_attr=edge_weight)\n",
    "\n",
    "# Number of nodes\n",
    "print(\"Number of nodes\", data.num_nodes)\n",
    "\n",
    "# Number of edges\n",
    "print(\"Number of edges\", data.num_edges)\n",
    "\n",
    "# Number of node features\n",
    "print(\"Number of ndoe features\", data.num_node_features)\n",
    "\n",
    "# Numbder of edge features\n",
    "print(\"Number of edge features\", data.num_edge_features)"
   ]
  },
  {
   "cell_type": "code",
   "execution_count": 4,
   "id": "59754a63-9fb5-49a8-8449-d085cb0163c3",
   "metadata": {},
   "outputs": [
    {
     "data": {
      "image/png": "[encoded data removed]",
      "text/plain": [
       "<Figure size 640x480 with 1 Axes>"
      ]
     },
     "metadata": {},
     "output_type": "display_data"
    }
   ],
   "source": [
    "G = to_networkx(data)\n",
    "nx.draw_networkx(G)"
   ]
  },
  {
   "cell_type": "code",
   "execution_count": null,
   "id": "f529dbdc-d989-4b4c-88bf-8b28ff4c7903",
   "metadata": {},
   "outputs": [],
   "source": []
  }
 ],
 "metadata": {
  "kernelspec": {
   "display_name": "Python 3 (ipykernel)",
   "language": "python",
   "name": "python3"
  },
  "language_info": {
   "codemirror_mode": {
    "name": "ipython",
    "version": 3
   },
   "file_extension": ".py",
   "mimetype": "text/x-python",
   "name": "python",
   "nbconvert_exporter": "python",
   "pygments_lexer": "ipython3",
   "version": "3.10.6"
  }
 },
 "nbformat": 4,
 "nbformat_minor": 5
}
