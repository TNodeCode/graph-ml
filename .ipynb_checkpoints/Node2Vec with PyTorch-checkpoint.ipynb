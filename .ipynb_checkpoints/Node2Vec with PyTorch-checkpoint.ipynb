{
 "cells": [
  {
   "cell_type": "markdown",
   "id": "cdc0687d-475f-4bfb-acc0-017f8d70cda6",
   "metadata": {},
   "source": [
    "# Node2Vec using PyTorch Geometric"
   ]
  },
  {
   "cell_type": "code",
   "execution_count": null,
   "id": "4c1b3f5d-b84b-4630-a56b-322b9be21533",
   "metadata": {},
   "outputs": [
    {
     "name": "stderr",
     "output_type": "stream",
     "text": [
      "C:\\Users\\tilof\\AppData\\Local\\Programs\\Python\\Python310\\lib\\site-packages\\torch\\cuda\\__init__.py:107: UserWarning: CUDA initialization: CUDA unknown error - this may be due to an incorrectly set up environment, e.g. changing env variable CUDA_VISIBLE_DEVICES after program start. Setting the available devices to be zero. (Triggered internally at ..\\c10\\cuda\\CUDAFunctions.cpp:109.)\n",
      "  return torch._C._cuda_getDeviceCount() > 0\n"
     ]
    }
   ],
   "source": [
    "import torch\n",
    "from torch_geometric.datasets import Planetoid, TUDataset\n",
    "from torch_geometric.nn import Node2Vec"
   ]
  },
  {
   "cell_type": "markdown",
   "id": "757b4417-63bd-49e4-a570-e8c750e25d63",
   "metadata": {},
   "source": [
    "### Load the dataset"
   ]
  },
  {
   "cell_type": "code",
   "execution_count": null,
   "id": "5806d5fc-a387-4e33-8ab2-08c28f95c4c5",
   "metadata": {},
   "outputs": [],
   "source": [
    "# Download the 'Cora' dataset and cache it in the local './data' directory\n",
    "dataset = Planetoid(root=\"./data\", name='Cora')\n",
    "data = dataset[0]\n",
    "\n",
    "device = 'cuda' if torch.cuda.is_available() else 'cpu'"
   ]
  },
  {
   "cell_type": "markdown",
   "id": "f5e7f611-8bff-4650-8d44-78114f28f7c9",
   "metadata": {},
   "source": [
    "### Construct the model"
   ]
  },
  {
   "cell_type": "code",
   "execution_count": null,
   "id": "00e9f3b0-adb1-4d50-968d-4f50a7c5b37f",
   "metadata": {},
   "outputs": [
    {
     "ename": "AttributeError",
     "evalue": "type object 'Node2Vec' has no attribute 'model_loader'",
     "output_type": "error",
     "traceback": [
      "\u001b[1;31m---------------------------------------------------------------------------\u001b[0m",
      "\u001b[1;31mAttributeError\u001b[0m                            Traceback (most recent call last)",
      "Input \u001b[1;32mIn [4]\u001b[0m, in \u001b[0;36m<cell line: 13>\u001b[1;34m()\u001b[0m\n\u001b[0;32m      1\u001b[0m model \u001b[38;5;241m=\u001b[39m Node2Vec(\n\u001b[0;32m      2\u001b[0m     data\u001b[38;5;241m.\u001b[39medge_index,\n\u001b[0;32m      3\u001b[0m     embedding_dim\u001b[38;5;241m=\u001b[39m\u001b[38;5;241m128\u001b[39m,\n\u001b[1;32m   (...)\u001b[0m\n\u001b[0;32m     10\u001b[0m     sparse\u001b[38;5;241m=\u001b[39m\u001b[38;5;28;01mTrue\u001b[39;00m\n\u001b[0;32m     11\u001b[0m )\n\u001b[1;32m---> 13\u001b[0m loader \u001b[38;5;241m=\u001b[39m \u001b[43mNode2Vec\u001b[49m\u001b[38;5;241;43m.\u001b[39;49m\u001b[43mmodel_loader\u001b[49m(batch_size\u001b[38;5;241m=\u001b[39m\u001b[38;5;241m128\u001b[39m, shuffle\u001b[38;5;241m=\u001b[39m\u001b[38;5;28;01mTrue\u001b[39;00m, num_workers\u001b[38;5;241m=\u001b[39m\u001b[38;5;241m4\u001b[39m)\n",
      "\u001b[1;31mAttributeError\u001b[0m: type object 'Node2Vec' has no attribute 'model_loader'"
     ]
    }
   ],
   "source": [
    "model = Node2Vec(\n",
    "    data.edge_index,\n",
    "    embedding_dim=128,\n",
    "    walk_length=20,\n",
    "    context_size=10,\n",
    "    walks_per_node=10,\n",
    "    num_negative_samples=1,\n",
    "    p=1,\n",
    "    q=1,\n",
    "    sparse=True\n",
    ")\n",
    "\n",
    "loader = model.loader(batch_size=128, shuffle=True, num_workers=4)"
   ]
  },
  {
   "cell_type": "markdown",
   "id": "a6fc1a0d-83e8-4cfd-9712-c91301fafc61",
   "metadata": {},
   "source": [
    "### Training"
   ]
  },
  {
   "cell_type": "code",
   "execution_count": null,
   "id": "13c7a1a3-2c4d-46b6-8b3d-d713103956d5",
   "metadata": {},
   "outputs": [],
   "source": [
    "optimizer = torch.optim.SparseAdam(model.parameters(), lr=1e-2)\n",
    "\n",
    "def train():\n",
    "    # Set model to training mode\n",
    "    model.train()\n",
    "    total_loss = torch.tensor(0)\n",
    "    for pos_rw, neg_rw, in loader:\n",
    "        # Reset gradients of all parameters\n",
    "        optimizer.zero_grad()\n",
    "        loss = model.loss(pos_rw, neg_rw)\n",
    "        loss.backward()\n",
    "        optimizer.step()\n",
    "        total_loss += loss\n",
    "    return total_loss.item() / len(loader)"
   ]
  },
  {
   "cell_type": "code",
   "execution_count": null,
   "id": "acc8f76f-9594-4d9f-8145-592815383d15",
   "metadata": {},
   "outputs": [],
   "source": [
    "for epoch in range(100):\n",
    "    loss = train()\n",
    "    print(f\"Epoch: {epoch:02d}, Loss: {loss:.4f}\")"
   ]
  },
  {
   "cell_type": "markdown",
   "id": "3f0a64d2-b9f3-4309-a7f4-61b22b2b492a",
   "metadata": {},
   "source": [
    "### Plot results"
   ]
  },
  {
   "cell_type": "code",
   "execution_count": null,
   "id": "96169a15-553d-4e45-9e41-42a06e49934d",
   "metadata": {},
   "outputs": [],
   "source": [
    "@torch.no_grad(model, dataset, data)\n",
    "def plot_points(colors):\n",
    "    # Set model to evaluation mode\n",
    "    model.eval()\n",
    "    z = model(torch.arange(data.num_nodes, device=device))\n",
    "    y = data.y.cpu().numpy()\n",
    "    fig, ax = plt.subplots(1, 1)\n",
    "    for i in range(dataset.num_classes):\n",
    "        plt.scatter(z[y==i, 0], z[y==i, 1], s=20, color=colors[i])"
   ]
  },
  {
   "cell_type": "markdown",
   "id": "f809e8b4-471f-4397-9830-4b98f9fb0ca2",
   "metadata": {},
   "source": [
    "### Measure Accuracy"
   ]
  },
  {
   "cell_type": "code",
   "execution_count": null,
   "id": "f40fcf01-ae32-4045-ac85-74f170f02933",
   "metadata": {},
   "outputs": [],
   "source": [
    "def test(model, data):\n",
    "    model.eval()\n",
    "    z = model()\n",
    "    acc = model.test(\n",
    "        z[data.train_mask],\n",
    "        data.y[data.train_mask],\n",
    "        z[data.test_mask],\n",
    "        data.y[data.test_mask],\n",
    "        max_iter=150\n",
    "    )\n",
    "    return acc"
   ]
  },
  {
   "cell_type": "code",
   "execution_count": null,
   "id": "e7fb87b4-4ffe-4a13-83f9-187577004fe2",
   "metadata": {},
   "outputs": [],
   "source": []
  }
 ],
 "metadata": {
  "kernelspec": {
   "display_name": "Python 3 (ipykernel)",
   "language": "python",
   "name": "python3"
  },
  "language_info": {
   "codemirror_mode": {
    "name": "ipython",
    "version": 3
   },
   "file_extension": ".py",
   "mimetype": "text/x-python",
   "name": "python",
   "nbconvert_exporter": "python",
   "pygments_lexer": "ipython3",
   "version": "3.10.6"
  }
 },
 "nbformat": 4,
 "nbformat_minor": 5
}
