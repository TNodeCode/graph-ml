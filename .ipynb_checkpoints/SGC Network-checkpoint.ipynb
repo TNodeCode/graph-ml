{
 "cells": [
  {
   "cell_type": "code",
   "execution_count": 10,
   "id": "f1139c3b-8db4-4f74-8293-088ef1eb5297",
   "metadata": {},
   "outputs": [],
   "source": [
    "import torch\n",
    "import torch.nn as nn\n",
    "from torch_geometric.datasets import Planetoid\n",
    "from torch_geometric.nn import SGConv\n",
    "from sklearn.manifold import TSNE\n",
    "import matplotlib.pyplot as plt"
   ]
  },
  {
   "cell_type": "markdown",
   "id": "994c777a-1e34-4db8-87be-a91ec92cb510",
   "metadata": {},
   "source": [
    "## Data\n",
    "\n",
    "First we load the predefined Planetoid dataset"
   ]
  },
  {
   "cell_type": "code",
   "execution_count": 2,
   "id": "f5fee13f-f5a0-4af2-8a2d-0903b9147aad",
   "metadata": {},
   "outputs": [
    {
     "name": "stderr",
     "output_type": "stream",
     "text": [
      "Processing...\n"
     ]
    },
    {
     "name": "stdout",
     "output_type": "stream",
     "text": [
      "Cora Data(x=[2708, 1433], edge_index=[2, 10556], y=[2708], train_mask=[2708], val_mask=[2708], test_mask=[2708])\n"
     ]
    },
    {
     "name": "stderr",
     "output_type": "stream",
     "text": [
      "Done!\n"
     ]
    }
   ],
   "source": [
    "path = './data'\n",
    "dataset = Planetoid(path, \"Cora\")\n",
    "data = dataset[0]\n",
    "print('Cora', data)"
   ]
  },
  {
   "cell_type": "code",
   "execution_count": 3,
   "id": "230d2d75-53c3-4b7f-ad6a-35cf2e1d869a",
   "metadata": {},
   "outputs": [
    {
     "name": "stdout",
     "output_type": "stream",
     "text": [
      "Device cpu\n"
     ]
    }
   ],
   "source": [
    "device = 'cuda' if torch.cuda.is_available() else 'cpu'\n",
    "print('Device', device)"
   ]
  },
  {
   "cell_type": "markdown",
   "id": "b8b23719-c17d-4cd4-9a79-615cf57dd5c4",
   "metadata": {},
   "source": [
    "## Model\n",
    "\n",
    "Let's construct our graph neural network, whcih will consist of a single SGConv layer only.\n",
    "\n",
    "SGConv: https://pytorch-geometric.readthedocs.io/en/latest/_modules/torch_geometric/nn/conv/sg_conv.html"
   ]
  },
  {
   "cell_type": "code",
   "execution_count": 9,
   "id": "17591eaa-a5dc-4c66-9dc0-13f5f6816f2b",
   "metadata": {},
   "outputs": [
    {
     "name": "stdout",
     "output_type": "stream",
     "text": [
      "In Channels: 1433\n",
      "Out Channels: 7\n"
     ]
    }
   ],
   "source": [
    "# Simple Graph Convolutional Neural Network\n",
    "model = SGConv(\n",
    "    in_channels=data.num_features,    # dimension of the input vectors\n",
    "    out_channels=dataset.num_classes, # dimension of the output vectors\n",
    "    K=1,                              # size of neighborhood for each node (1 means only look at direct neighbors)\n",
    "    cached=True                       # cache can save time, but required more memory\n",
    ")\n",
    "\n",
    "print(\"In Channels:\", data.num_features)\n",
    "print(\"Out Channels:\", dataset.num_classes)"
   ]
  },
  {
   "cell_type": "markdown",
   "id": "a7363abd-a2df-4c29-b8bc-78707ca847dc",
   "metadata": {},
   "source": [
    "### Compute embeddings for nodes\n",
    "\n",
    "Before we train the model let's just pass some data through it to see how the embeddings look like."
   ]
  },
  {
   "cell_type": "code",
   "execution_count": 8,
   "id": "40a57b80-81ee-4ecf-ad28-ec303d078101",
   "metadata": {},
   "outputs": [
    {
     "name": "stdout",
     "output_type": "stream",
     "text": [
      "Shape of the original data: torch.Size([2708, 1433])\n",
      "Shape of the embedded data: torch.Size([2708, 7])\n"
     ]
    }
   ],
   "source": [
    "print(\"Shape of the original data:\", data.x.shape)\n",
    "print(\"Shape of the embedded data:\", model(data.x, data.edge_index).shape)"
   ]
  },
  {
   "cell_type": "markdown",
   "id": "b65abbf9-5364-40c9-a53d-59bf61d55ea2",
   "metadata": {},
   "source": [
    "The input vectors have 1433 components whereas the output vectors only have seven, which corresponds to the number of classes in the dataset."
   ]
  },
  {
   "cell_type": "markdown",
   "id": "7f100fbd-20fe-41e3-9d33-bd5419304277",
   "metadata": {},
   "source": [
    "### More complex model\n",
    "\n",
    "Now let's build a more complex model that consists of multiple layers. "
   ]
  },
  {
   "cell_type": "code",
   "execution_count": 35,
   "id": "75b3057c-86b4-4c96-9f3e-b9a998d795c7",
   "metadata": {},
   "outputs": [],
   "source": [
    "class SGNet(nn.Module):\n",
    "    def __init__(self, input_dim, output_dim, K=1):\n",
    "        super().__init__()\n",
    "        self.conv1 = SGConv(\n",
    "            in_channels=input_dim,\n",
    "            out_channels=output_dim,\n",
    "            K=K,\n",
    "            cached=True\n",
    "        )\n",
    "        self.softmax = nn.Softmax(dim=1)\n",
    "        \n",
    "    def forward(self, data):\n",
    "        x = self.conv1(data.x, data.edge_index) # Pass the data through the SGConv layer\n",
    "        print(\"X shape\", x.shape)\n",
    "        x = self.softmax(x)                     # Turns the output into a probability distrobution\n",
    "        return x"
   ]
  },
  {
   "cell_type": "code",
   "execution_count": 36,
   "id": "cc8843d5-4f07-4c3c-9322-29d8e37b5011",
   "metadata": {},
   "outputs": [],
   "source": [
    "# Instantiate the model and the data and move them to the chosen device (CPU / CUDA)\n",
    "model, data = SGNet(data.num_features, dataset.num_classes).to(device), data.to(device)\n",
    "\n",
    "# Select an optimizer\n",
    "optimizer = torch.optim.Adam(model.parameters(), lr=0.2, weight_decay=0.005)\n",
    "\n",
    "#  Loss function\n",
    "criterion = nn.CrossEntropyLoss()"
   ]
  },
  {
   "cell_type": "code",
   "execution_count": 37,
   "id": "079c912d-1c55-464c-9d0d-151bd9993727",
   "metadata": {},
   "outputs": [
    {
     "name": "stdout",
     "output_type": "stream",
     "text": [
      "Parameter conv1.lin.weight:\n",
      "Shape: torch.Size([7, 1433])\n",
      "Parameter conv1.lin.bias:\n",
      "Shape: torch.Size([7])\n"
     ]
    }
   ],
   "source": [
    "# Inspect the shape of te parameters\n",
    "for i, param in model.named_parameters():\n",
    "    print(\"Parameter {}:\".format(i))\n",
    "    print(\"Shape:\", param.shape)"
   ]
  },
  {
   "cell_type": "markdown",
   "id": "a0d31d4c-5184-4867-ba10-a11b75e89226",
   "metadata": {},
   "source": [
    "The graph convolution layer has two parameter matrices:\n",
    "- The matrix that is multiplied with the feature vectors of the nodes\n",
    "- The bias that is added to the results of the convolution operation"
   ]
  },
  {
   "cell_type": "markdown",
   "id": "2e4211d3-7ea1-4e34-a3cd-45481f09f7b2",
   "metadata": {},
   "source": [
    "## Train the model"
   ]
  },
  {
   "cell_type": "code",
   "execution_count": 38,
   "id": "034e440e-c451-4611-ae15-15d571eedc03",
   "metadata": {},
   "outputs": [],
   "source": [
    "def train():\n",
    "    # Set the model to training mode\n",
    "    model.train()\n",
    "    \n",
    "    # Reset the gradients\n",
    "    optimizer.zero_grad()\n",
    "    \n",
    "    # Forward the data through the model and compute predictions.\n",
    "    predicted_classes = model(data)\n",
    "    \n",
    "    # Compute loss\n",
    "    loss = criterion(predicted_classes[data.train_mask], data.y[data.train_mask])\n",
    "    \n",
    "    # Backpropagation\n",
    "    loss.backward()\n",
    "    \n",
    "    # Update the parameters\n",
    "    optimizer.step()"
   ]
  },
  {
   "cell_type": "code",
   "execution_count": 39,
   "id": "6a12062d-634b-437b-ab20-b0d9ff4de71b",
   "metadata": {},
   "outputs": [],
   "source": [
    "def test():\n",
    "    # Set the model ot evaluation mode\n",
    "    model.eval()\n",
    "    \n",
    "    # Compute logits\n",
    "    logits = model(data)\n",
    "    \n",
    "    # Accuracies for training, validation and test data\n",
    "    accs = []\n",
    "    \n",
    "    # Compute accuracies for training, validation and test dataset\n",
    "    for _, mask in data('train_mask', 'val_mask', 'test_mask'):\n",
    "        # Get predicted class\n",
    "        pred = logits[mask].max(1)[1]\n",
    "        #  Compute the accuracy\n",
    "        acc = pred.eq(data.y[mask]).sum().item() / mask.sum().item()\n",
    "        # Save accuracy\n",
    "        accs.append(acc)\n",
    "        \n",
    "    return accs"
   ]
  },
  {
   "cell_type": "code",
   "execution_count": 40,
   "id": "aff2670e-5cf5-4684-af60-79a3f26ab9d1",
   "metadata": {},
   "outputs": [
    {
     "name": "stdout",
     "output_type": "stream",
     "text": [
      "X shape torch.Size([2708, 7])\n"
     ]
    },
    {
     "ename": "IndexError",
     "evalue": "Dimension out of range (expected to be in range of [-2, 1], but got 7)",
     "output_type": "error",
     "traceback": [
      "\u001b[1;31m---------------------------------------------------------------------------\u001b[0m",
      "\u001b[1;31mIndexError\u001b[0m                                Traceback (most recent call last)",
      "Input \u001b[1;32mIn [40]\u001b[0m, in \u001b[0;36m<cell line: 3>\u001b[1;34m()\u001b[0m\n\u001b[0;32m      1\u001b[0m best_val_acc \u001b[38;5;241m=\u001b[39m test_acc \u001b[38;5;241m=\u001b[39m \u001b[38;5;241m0\u001b[39m\n\u001b[0;32m      3\u001b[0m \u001b[38;5;28;01mfor\u001b[39;00m epoch \u001b[38;5;129;01min\u001b[39;00m \u001b[38;5;28mrange\u001b[39m(\u001b[38;5;241m1\u001b[39m, \u001b[38;5;241m100\u001b[39m):\n\u001b[1;32m----> 4\u001b[0m     \u001b[43mtrain\u001b[49m\u001b[43m(\u001b[49m\u001b[43m)\u001b[49m\n\u001b[0;32m      5\u001b[0m     train_acc, val_acc, test_acc \u001b[38;5;241m=\u001b[39m test()\n\u001b[0;32m      6\u001b[0m     \u001b[38;5;28;01mif\u001b[39;00m val_acc \u001b[38;5;241m>\u001b[39m best_val_acc:\n",
      "Input \u001b[1;32mIn [38]\u001b[0m, in \u001b[0;36mtrain\u001b[1;34m()\u001b[0m\n\u001b[0;32m      6\u001b[0m optimizer\u001b[38;5;241m.\u001b[39mzero_grad()\n\u001b[0;32m      8\u001b[0m \u001b[38;5;66;03m# Forward the data through the model and compute predictions.\u001b[39;00m\n\u001b[1;32m----> 9\u001b[0m predicted_classes \u001b[38;5;241m=\u001b[39m \u001b[43mmodel\u001b[49m\u001b[43m(\u001b[49m\u001b[43mdata\u001b[49m\u001b[43m)\u001b[49m\n\u001b[0;32m     11\u001b[0m \u001b[38;5;66;03m# Compute loss\u001b[39;00m\n\u001b[0;32m     12\u001b[0m loss \u001b[38;5;241m=\u001b[39m criterion(predicted_classes[data\u001b[38;5;241m.\u001b[39mtrain_mask], data\u001b[38;5;241m.\u001b[39my[data\u001b[38;5;241m.\u001b[39mtrain_mask])\n",
      "File \u001b[1;32m~\\AppData\\Local\\Programs\\Python\\Python310\\lib\\site-packages\\torch\\nn\\modules\\module.py:1501\u001b[0m, in \u001b[0;36mModule._call_impl\u001b[1;34m(self, *args, **kwargs)\u001b[0m\n\u001b[0;32m   1496\u001b[0m \u001b[38;5;66;03m# If we don't have any hooks, we want to skip the rest of the logic in\u001b[39;00m\n\u001b[0;32m   1497\u001b[0m \u001b[38;5;66;03m# this function, and just call forward.\u001b[39;00m\n\u001b[0;32m   1498\u001b[0m \u001b[38;5;28;01mif\u001b[39;00m \u001b[38;5;129;01mnot\u001b[39;00m (\u001b[38;5;28mself\u001b[39m\u001b[38;5;241m.\u001b[39m_backward_hooks \u001b[38;5;129;01mor\u001b[39;00m \u001b[38;5;28mself\u001b[39m\u001b[38;5;241m.\u001b[39m_backward_pre_hooks \u001b[38;5;129;01mor\u001b[39;00m \u001b[38;5;28mself\u001b[39m\u001b[38;5;241m.\u001b[39m_forward_hooks \u001b[38;5;129;01mor\u001b[39;00m \u001b[38;5;28mself\u001b[39m\u001b[38;5;241m.\u001b[39m_forward_pre_hooks\n\u001b[0;32m   1499\u001b[0m         \u001b[38;5;129;01mor\u001b[39;00m _global_backward_pre_hooks \u001b[38;5;129;01mor\u001b[39;00m _global_backward_hooks\n\u001b[0;32m   1500\u001b[0m         \u001b[38;5;129;01mor\u001b[39;00m _global_forward_hooks \u001b[38;5;129;01mor\u001b[39;00m _global_forward_pre_hooks):\n\u001b[1;32m-> 1501\u001b[0m     \u001b[38;5;28;01mreturn\u001b[39;00m forward_call(\u001b[38;5;241m*\u001b[39margs, \u001b[38;5;241m*\u001b[39m\u001b[38;5;241m*\u001b[39mkwargs)\n\u001b[0;32m   1502\u001b[0m \u001b[38;5;66;03m# Do not call functions when jit is used\u001b[39;00m\n\u001b[0;32m   1503\u001b[0m full_backward_hooks, non_full_backward_hooks \u001b[38;5;241m=\u001b[39m [], []\n",
      "Input \u001b[1;32mIn [35]\u001b[0m, in \u001b[0;36mSGNet.forward\u001b[1;34m(self, data)\u001b[0m\n\u001b[0;32m     13\u001b[0m x \u001b[38;5;241m=\u001b[39m \u001b[38;5;28mself\u001b[39m\u001b[38;5;241m.\u001b[39mconv1(data\u001b[38;5;241m.\u001b[39mx, data\u001b[38;5;241m.\u001b[39medge_index) \u001b[38;5;66;03m# Pass the data through the SGConv layer\u001b[39;00m\n\u001b[0;32m     14\u001b[0m \u001b[38;5;28mprint\u001b[39m(\u001b[38;5;124m\"\u001b[39m\u001b[38;5;124mX shape\u001b[39m\u001b[38;5;124m\"\u001b[39m, x\u001b[38;5;241m.\u001b[39mshape)\n\u001b[1;32m---> 15\u001b[0m x \u001b[38;5;241m=\u001b[39m \u001b[38;5;28;43mself\u001b[39;49m\u001b[38;5;241;43m.\u001b[39;49m\u001b[43msoftmax\u001b[49m\u001b[43m(\u001b[49m\u001b[43mx\u001b[49m\u001b[43m)\u001b[49m                     \u001b[38;5;66;03m# Turns the output into a probability distrobution\u001b[39;00m\n\u001b[0;32m     16\u001b[0m \u001b[38;5;28;01mreturn\u001b[39;00m x\n",
      "File \u001b[1;32m~\\AppData\\Local\\Programs\\Python\\Python310\\lib\\site-packages\\torch\\nn\\modules\\module.py:1501\u001b[0m, in \u001b[0;36mModule._call_impl\u001b[1;34m(self, *args, **kwargs)\u001b[0m\n\u001b[0;32m   1496\u001b[0m \u001b[38;5;66;03m# If we don't have any hooks, we want to skip the rest of the logic in\u001b[39;00m\n\u001b[0;32m   1497\u001b[0m \u001b[38;5;66;03m# this function, and just call forward.\u001b[39;00m\n\u001b[0;32m   1498\u001b[0m \u001b[38;5;28;01mif\u001b[39;00m \u001b[38;5;129;01mnot\u001b[39;00m (\u001b[38;5;28mself\u001b[39m\u001b[38;5;241m.\u001b[39m_backward_hooks \u001b[38;5;129;01mor\u001b[39;00m \u001b[38;5;28mself\u001b[39m\u001b[38;5;241m.\u001b[39m_backward_pre_hooks \u001b[38;5;129;01mor\u001b[39;00m \u001b[38;5;28mself\u001b[39m\u001b[38;5;241m.\u001b[39m_forward_hooks \u001b[38;5;129;01mor\u001b[39;00m \u001b[38;5;28mself\u001b[39m\u001b[38;5;241m.\u001b[39m_forward_pre_hooks\n\u001b[0;32m   1499\u001b[0m         \u001b[38;5;129;01mor\u001b[39;00m _global_backward_pre_hooks \u001b[38;5;129;01mor\u001b[39;00m _global_backward_hooks\n\u001b[0;32m   1500\u001b[0m         \u001b[38;5;129;01mor\u001b[39;00m _global_forward_hooks \u001b[38;5;129;01mor\u001b[39;00m _global_forward_pre_hooks):\n\u001b[1;32m-> 1501\u001b[0m     \u001b[38;5;28;01mreturn\u001b[39;00m forward_call(\u001b[38;5;241m*\u001b[39margs, \u001b[38;5;241m*\u001b[39m\u001b[38;5;241m*\u001b[39mkwargs)\n\u001b[0;32m   1502\u001b[0m \u001b[38;5;66;03m# Do not call functions when jit is used\u001b[39;00m\n\u001b[0;32m   1503\u001b[0m full_backward_hooks, non_full_backward_hooks \u001b[38;5;241m=\u001b[39m [], []\n",
      "File \u001b[1;32m~\\AppData\\Local\\Programs\\Python\\Python310\\lib\\site-packages\\torch\\nn\\modules\\activation.py:1459\u001b[0m, in \u001b[0;36mSoftmax.forward\u001b[1;34m(self, input)\u001b[0m\n\u001b[0;32m   1458\u001b[0m \u001b[38;5;28;01mdef\u001b[39;00m \u001b[38;5;21mforward\u001b[39m(\u001b[38;5;28mself\u001b[39m, \u001b[38;5;28minput\u001b[39m: Tensor) \u001b[38;5;241m-\u001b[39m\u001b[38;5;241m>\u001b[39m Tensor:\n\u001b[1;32m-> 1459\u001b[0m     \u001b[38;5;28;01mreturn\u001b[39;00m \u001b[43mF\u001b[49m\u001b[38;5;241;43m.\u001b[39;49m\u001b[43msoftmax\u001b[49m\u001b[43m(\u001b[49m\u001b[38;5;28;43minput\u001b[39;49m\u001b[43m,\u001b[49m\u001b[43m \u001b[49m\u001b[38;5;28;43mself\u001b[39;49m\u001b[38;5;241;43m.\u001b[39;49m\u001b[43mdim\u001b[49m\u001b[43m,\u001b[49m\u001b[43m \u001b[49m\u001b[43m_stacklevel\u001b[49m\u001b[38;5;241;43m=\u001b[39;49m\u001b[38;5;241;43m5\u001b[39;49m\u001b[43m)\u001b[49m\n",
      "File \u001b[1;32m~\\AppData\\Local\\Programs\\Python\\Python310\\lib\\site-packages\\torch\\nn\\functional.py:1843\u001b[0m, in \u001b[0;36msoftmax\u001b[1;34m(input, dim, _stacklevel, dtype)\u001b[0m\n\u001b[0;32m   1841\u001b[0m     dim \u001b[38;5;241m=\u001b[39m _get_softmax_dim(\u001b[38;5;124m\"\u001b[39m\u001b[38;5;124msoftmax\u001b[39m\u001b[38;5;124m\"\u001b[39m, \u001b[38;5;28minput\u001b[39m\u001b[38;5;241m.\u001b[39mdim(), _stacklevel)\n\u001b[0;32m   1842\u001b[0m \u001b[38;5;28;01mif\u001b[39;00m dtype \u001b[38;5;129;01mis\u001b[39;00m \u001b[38;5;28;01mNone\u001b[39;00m:\n\u001b[1;32m-> 1843\u001b[0m     ret \u001b[38;5;241m=\u001b[39m \u001b[38;5;28;43minput\u001b[39;49m\u001b[38;5;241;43m.\u001b[39;49m\u001b[43msoftmax\u001b[49m\u001b[43m(\u001b[49m\u001b[43mdim\u001b[49m\u001b[43m)\u001b[49m\n\u001b[0;32m   1844\u001b[0m \u001b[38;5;28;01melse\u001b[39;00m:\n\u001b[0;32m   1845\u001b[0m     ret \u001b[38;5;241m=\u001b[39m \u001b[38;5;28minput\u001b[39m\u001b[38;5;241m.\u001b[39msoftmax(dim, dtype\u001b[38;5;241m=\u001b[39mdtype)\n",
      "\u001b[1;31mIndexError\u001b[0m: Dimension out of range (expected to be in range of [-2, 1], but got 7)"
     ]
    }
   ],
   "source": [
    "best_val_acc = test_acc = 0\n",
    "\n",
    "for epoch in range(1, 100):\n",
    "    train()\n",
    "    train_acc, val_acc, test_acc = test()\n",
    "    if val_acc > best_val_acc:\n",
    "        best_val_acc = val_acc\n",
    "        test_acc = tmp_test_acc\n",
    "    msg = \"Epoch: {:03d}, Train: {:.4f}, Val: {:.4f}, Test: {:.4f}\"\n",
    "    print(msg.format(epoch, train_acc, val_acc, test_acc))"
   ]
  },
  {
   "cell_type": "code",
   "execution_count": null,
   "id": "20212a10-48c3-4b03-8837-84ac0b2e14dd",
   "metadata": {},
   "outputs": [],
   "source": []
  }
 ],
 "metadata": {
  "kernelspec": {
   "display_name": "Python 3 (ipykernel)",
   "language": "python",
   "name": "python3"
  },
  "language_info": {
   "codemirror_mode": {
    "name": "ipython",
    "version": 3
   },
   "file_extension": ".py",
   "mimetype": "text/x-python",
   "name": "python",
   "nbconvert_exporter": "python",
   "pygments_lexer": "ipython3",
   "version": "3.10.6"
  }
 },
 "nbformat": 4,
 "nbformat_minor": 5
}
